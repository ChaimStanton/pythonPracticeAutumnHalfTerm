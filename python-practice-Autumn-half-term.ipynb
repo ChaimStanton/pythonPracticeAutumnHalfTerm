{
 "cells": [
  {
   "cell_type": "markdown",
   "metadata": {},
   "source": [
    "# Autumn half term python practice \n",
    "----\n",
    "### Task 1"
   ]
  },
  {
   "cell_type": "code",
   "execution_count": null,
   "metadata": {},
   "outputs": [],
   "source": [
    "print('This is Jhon\\'s first program')"
   ]
  },
  {
   "cell_type": "markdown",
   "metadata": {},
   "source": [
    "### Task 2"
   ]
  },
  {
   "cell_type": "code",
   "execution_count": null,
   "metadata": {},
   "outputs": [],
   "source": [
    "name = input(\"What is your name? \")\n",
    "friendName = input(\"What is your friends name? \")\n",
    "schoolName = input(\"Which school or collage do you go to? \")\n",
    "\n",
    "print(\"Hello \", name, \", and their firiend \", friendName, \"welcome to your school: \", schoolName)"
   ]
  },
  {
   "cell_type": "markdown",
   "metadata": {},
   "source": [
    "### Task 3"
   ]
  },
  {
   "cell_type": "code",
   "execution_count": 5,
   "metadata": {},
   "outputs": [
    {
     "name": "stdout",
     "output_type": "stream",
     "text": [
      "Where do you live? london\n",
      "I love visiting London\n"
     ]
    }
   ],
   "source": [
    "# 3a\n",
    "liveLocation = input(\"Where do you live? \").title() # The title means that the first letter of their location will be capatilised\n",
    "print(\"I love visiting\", liveLocation)"
   ]
  },
  {
   "cell_type": "code",
   "execution_count": 7,
   "metadata": {},
   "outputs": [
    {
     "name": "stdout",
     "output_type": "stream",
     "text": [
      "What is your first name?chaim\n",
      "What is your last name?stanton\n",
      "Hello Chaim Stanton\n"
     ]
    }
   ],
   "source": [
    "# 3b \n",
    "firstName = input(\"What is your first name?\").title()\n",
    "lastName = input(\"What is your last name?\").title()\n",
    "print(\"Hello\", firstName, lastName)"
   ]
  },
  {
   "cell_type": "code",
   "execution_count": 12,
   "metadata": {},
   "outputs": [
    {
     "name": "stdout",
     "output_type": "stream",
     "text": [
      "What is your first name? Chaim\n",
      "Chaim Chaim Chaim Chaim Chaim \n"
     ]
    }
   ],
   "source": [
    "# 3c \n",
    "firstName = input(\"What is your first name? \").title()\n",
    "print((firstName + \" \") * 5) # The double pair of brackets are needed because they create the string that is then multiplied by 5 "
   ]
  },
  {
   "cell_type": "markdown",
   "metadata": {},
   "source": [
    "### Task 4"
   ]
  },
  {
   "cell_type": "code",
   "execution_count": 2,
   "metadata": {},
   "outputs": [
    {
     "name": "stdout",
     "output_type": "stream",
     "text": [
      "7\n",
      "2\n",
      "27\n",
      "3.5\n",
      "1\n"
     ]
    }
   ],
   "source": [
    "# 4a\n",
    "print(1+6) # Addition\n",
    "print(7-5) # Subtractin\n",
    "print(3*9) # Multiplication\n",
    "print(7/2) # Devision\n",
    "print(7%2) # Remainder of "
   ]
  },
  {
   "cell_type": "code",
   "execution_count": 8,
   "metadata": {},
   "outputs": [
    {
     "name": "stdout",
     "output_type": "stream",
     "text": [
      "6.0\n",
      "0\n"
     ]
    }
   ],
   "source": [
    "# 4b \n",
    "a=12\n",
    "b=2\n",
    "c=a/b\n",
    "d = a % b # remainder\n",
    "print(c)\n",
    "print(d)"
   ]
  },
  {
   "cell_type": "code",
   "execution_count": 10,
   "metadata": {},
   "outputs": [],
   "source": [
    "# 4c - This cell will have the functions \n",
    "\n",
    "def isPrime(number):\n",
    "    \"\"\"A program to determine weather a number is prime or not returns a boolean\"\"\"\n",
    "    for counter in range(2, # Because every integer is divisble by 1\n",
    "                   number):\n",
    "        if number % counter == 0:\n",
    "            return False\n",
    "    return True"
   ]
  },
  {
   "cell_type": "code",
   "execution_count": null,
   "metadata": {},
   "outputs": [],
   "source": [
    "# 4c - This cell the function will be called \n",
    "userNumber = int(input(\"Please enter a number: \"))\n",
    "\n",
    "if isPrime(userNumber):\n",
    "    print(\"Your number is prime\")\n",
    "else:\n",
    "    print(\"Your number is not prime\")"
   ]
  },
  {
   "cell_type": "markdown",
   "metadata": {},
   "source": [
    "### Task 5"
   ]
  },
  {
   "cell_type": "code",
   "execution_count": 18,
   "metadata": {},
   "outputs": [
    {
     "name": "stdout",
     "output_type": "stream",
     "text": [
      "Enter number 1:5\n",
      "Enter number 2:4\n",
      "Adding your numbers together gives:54\n"
     ]
    }
   ],
   "source": [
    "# 5a\n",
    "\n",
    "a=int(input('Enter number 1:'))\n",
    "b=int(input('Enter number 2:'))\n",
    "c=a+b\n",
    "print('Adding your numbers together gives:'+c)"
   ]
  },
  {
   "cell_type": "code",
   "execution_count": 21,
   "metadata": {},
   "outputs": [
    {
     "name": "stdout",
     "output_type": "stream",
     "text": [
      "Enter number 1:5\n",
      "Enter number 2:5\n",
      "Adding your numbers together gives:10\n",
      "Adding your numbers together gives: 10\n"
     ]
    }
   ],
   "source": [
    "a = int(input('Enter number 1:'))\n",
    "b = int(input('Enter number 2:'))\n",
    "c=a+b\n",
    "print('Adding your numbers together gives:'+str(c))\n",
    "print('Adding your numbers together gives:', str(c))"
   ]
  },
  {
   "cell_type": "code",
   "execution_count": 6,
   "metadata": {},
   "outputs": [
    {
     "name": "stdout",
     "output_type": "stream",
     "text": [
      "What is the volume of the cylinder? 5\n",
      "What is the height of your cylinder? 5\n",
      "The volume of your cylinder is : 392.69908169872417\n"
     ]
    }
   ],
   "source": [
    "# 5b - Volume of a Cylinder \n",
    "\n",
    "from math import pi as PI # This imports the number of pi to a high degree of precision, I have imported it as PI as oppoed to pi as it is a constant\n",
    "\n",
    "radius = int(input(\"What is the volume of the cylinder? \"))\n",
    "height = int(input(\"What is the height of your cylinder? \"))\n",
    "volume = PI * radius**2 * height\n",
    "\n",
    "print(\"The volume of your cylinder is :\", volume)"
   ]
  },
  {
   "cell_type": "code",
   "execution_count": 34,
   "metadata": {},
   "outputs": [
    {
     "name": "stdout",
     "output_type": "stream",
     "text": [
      "Please enter the number you would like to use: 10\n",
      "Please enter the number you would like to use: 11\n",
      "Please enter the number you would like to use: 22\n",
      "The biggest number is,  22\n"
     ]
    }
   ],
   "source": [
    "# 5c \n",
    "\n",
    "numbers = []\n",
    "\n",
    "for counter in range(3):\n",
    "    numbers.append(int(input(\"Please enter the number you would like to use: \")))\n",
    "\n",
    "print(\"The biggest number is, \", max(numbers))"
   ]
  },
  {
   "cell_type": "markdown",
   "metadata": {},
   "source": [
    "### Task 6"
   ]
  },
  {
   "cell_type": "code",
   "execution_count": 37,
   "metadata": {},
   "outputs": [
    {
     "name": "stdout",
     "output_type": "stream",
     "text": [
      "This prints if the letter is neither a nor b\n"
     ]
    }
   ],
   "source": [
    "letter = \"c\"\n",
    "if letter=='a':\n",
    "        print('This prints if letter is a')\n",
    "elif letter=='b':\n",
    "    print('This prints if the letter is b')\n",
    "else:\n",
    "    print('This prints if the letter is neither a nor b')"
   ]
  },
  {
   "cell_type": "code",
   "execution_count": 3,
   "metadata": {},
   "outputs": [
    {
     "name": "stdout",
     "output_type": "stream",
     "text": [
      "What are your grades? 51\n",
      "Your mark is B\n"
     ]
    }
   ],
   "source": [
    "# 6a\n",
    "\n",
    "grade = int(input(\"What are your grades? \"))\n",
    "\n",
    "if grade < 40:\n",
    "    mark = \"D\"\n",
    "elif grade < 50:\n",
    "    mark = \"C\"\n",
    "elif grade < 60:\n",
    "    mark = \"B\"\n",
    "else:\n",
    "    mark = \"A\"\n",
    "\n",
    "print(\"Your mark is\", mark)"
   ]
  },
  {
   "cell_type": "markdown",
   "metadata": {},
   "source": [
    "### Task 7"
   ]
  },
  {
   "cell_type": "code",
   "execution_count": 3,
   "metadata": {},
   "outputs": [
    {
     "name": "stdout",
     "output_type": "stream",
     "text": [
      "Please enter the letter you would like to be printed multiple times: a\n",
      "Please enter the number of times you would like it to be printed: 5\n",
      "aaaaa"
     ]
    }
   ],
   "source": [
    "# 7a\n",
    "letterToPrint = input(\"Please enter the letter you would like to be printed multiple times: \")\n",
    "numberOfTimes = int(input(\"Please enter the number of times you would like it to be printed: \"))\n",
    "\n",
    "for counter in range(numberOfTimes):\n",
    "    print(letterToPrint, end=\"\")"
   ]
  },
  {
   "cell_type": "code",
   "execution_count": 5,
   "metadata": {},
   "outputs": [
    {
     "name": "stdout",
     "output_type": "stream",
     "text": [
      "12\n",
      "24\n",
      "36\n",
      "48\n",
      "60\n",
      "72\n",
      "84\n",
      "96\n",
      "108\n",
      "120\n",
      "132\n",
      "144\n",
      "156\n",
      "168\n",
      "180\n",
      "192\n",
      "204\n",
      "216\n",
      "228\n",
      "240\n",
      "252\n",
      "264\n",
      "276\n",
      "288\n",
      "300\n",
      "312\n",
      "324\n",
      "336\n",
      "348\n",
      "360\n",
      "372\n",
      "384\n",
      "396\n",
      "408\n",
      "420\n",
      "432\n",
      "444\n",
      "456\n",
      "468\n",
      "480\n",
      "492\n",
      "504\n",
      "516\n",
      "528\n",
      "540\n",
      "552\n",
      "564\n",
      "576\n",
      "588\n",
      "600\n",
      "612\n",
      "624\n",
      "636\n",
      "648\n",
      "660\n",
      "672\n",
      "684\n",
      "696\n",
      "708\n",
      "720\n",
      "732\n",
      "744\n",
      "756\n",
      "768\n",
      "780\n",
      "792\n",
      "804\n",
      "816\n",
      "828\n",
      "840\n",
      "852\n",
      "864\n",
      "876\n",
      "888\n",
      "900\n",
      "912\n",
      "924\n",
      "936\n",
      "948\n",
      "960\n",
      "972\n",
      "984\n",
      "996\n"
     ]
    }
   ],
   "source": [
    "# 7b\n",
    "\n",
    "for number in range(1,1001):\n",
    "    if number % 4 == 0 and number % 3 == 0:\n",
    "        print(number)"
   ]
  },
  {
   "cell_type": "markdown",
   "metadata": {},
   "source": [
    "### Task 8"
   ]
  },
  {
   "cell_type": "code",
   "execution_count": 1,
   "metadata": {},
   "outputs": [
    {
     "name": "stdout",
     "output_type": "stream",
     "text": [
      "looping\n",
      "looping\n",
      "looping\n",
      "looping\n",
      "looping\n"
     ]
    }
   ],
   "source": [
    "x=0 # initialize the loop variable\n",
    "while x<5: # test the loop variable\n",
    "    print('looping')\n",
    "    x=x+1 #change the loop variable"
   ]
  },
  {
   "cell_type": "code",
   "execution_count": 6,
   "metadata": {},
   "outputs": [
    {
     "name": "stdout",
     "output_type": "stream",
     "text": [
      "Please enter your password guess:\n",
      " This is case sensitive: appple\n",
      "You guessed the password wrong\n",
      "Please enter your password guess:\n",
      " This is case sensitive: apple\n",
      "Accepted\n"
     ]
    }
   ],
   "source": [
    "# 8a - password program\n",
    "\n",
    "isPasswordCorrect = False \n",
    "correctPassword = \"apple\"\n",
    "\n",
    "while isPasswordCorrect == False:\n",
    "    passwordGuess = input(\"Please enter your password guess:\\n This is case sensitive: \")\n",
    "    if correctPassword == passwordGuess:\n",
    "        isPasswordCorrect = True\n",
    "    else:\n",
    "        print(\"You guessed the password wrong\")\n",
    "    \n",
    "print(\"Accepted\")"
   ]
  },
  {
   "cell_type": "code",
   "execution_count": 8,
   "metadata": {},
   "outputs": [],
   "source": [
    "# 8b \n",
    "\n",
    "counter = 1 \n",
    "while counter > 500:\n",
    "    print(counter)"
   ]
  },
  {
   "cell_type": "markdown",
   "metadata": {},
   "source": [
    "### Task 9"
   ]
  },
  {
   "cell_type": "code",
   "execution_count": 10,
   "metadata": {},
   "outputs": [],
   "source": [
    "# 9a - in this cell the functions are made in the cell below the functions are called\n",
    "# PI as a constant does not need to be initalised as it has been initalised above\n",
    "def circleArea(raduis):\n",
    "    \"\"\"This is a function to find the area of a circle\"\"\"\n",
    "    return PI * raduis**2"
   ]
  },
  {
   "cell_type": "code",
   "execution_count": 9,
   "metadata": {},
   "outputs": [
    {
     "name": "stdout",
     "output_type": "stream",
     "text": [
      "28.274333882308138\n"
     ]
    }
   ],
   "source": [
    "# 9a - in this cell the functions are called\n",
    "print(circleArea(3))"
   ]
  },
  {
   "cell_type": "code",
   "execution_count": 48,
   "metadata": {},
   "outputs": [],
   "source": [
    "# 9b - Functions defined here functions called below \n",
    "def decToBin(dec):\n",
    "    \"\"\"A function that takes in a decimal value and outputs a 8 bit binary\"\"\"\n",
    "    binary = bin(dec)[2:] # I had to look into the documentation for this, the [2:] is the string slicing as the bin returns a string\n",
    "    if len(binary) < 8:\n",
    "        binary = \"0\" * (8 - len(binary)) + binary # This adds the correct amount of 0's to the beginning of the string\n",
    "    return binary"
   ]
  },
  {
   "cell_type": "code",
   "execution_count": 52,
   "metadata": {},
   "outputs": [
    {
     "data": {
      "text/plain": [
       "'11111111'"
      ]
     },
     "execution_count": 52,
     "metadata": {},
     "output_type": "execute_result"
    }
   ],
   "source": [
    "# 9b - Functions called here defined above\n",
    "decToBin(255)"
   ]
  },
  {
   "cell_type": "code",
   "execution_count": 94,
   "metadata": {},
   "outputs": [],
   "source": [
    "# 9c - functions defined here called in cell below \n",
    "def trianglePrint(character, numberOfLines):\n",
    "    \"\"\" The instructions say to write a procedure so no value needs to be reutrned this is a procedure to print out the correct amount of *'s\"\"\"\n",
    "\n",
    "    for row in range(numberOfLines):\n",
    "        print((numberOfLines - row - 1) * \" \" + (row*2+1) * character) # calcualtes then prints the correct amount of whitespaces and characters"
   ]
  },
  {
   "cell_type": "code",
   "execution_count": 95,
   "metadata": {},
   "outputs": [
    {
     "name": "stdout",
     "output_type": "stream",
     "text": [
      " *\n",
      "***\n",
      "\n",
      "  *\n",
      " ***\n",
      "*****\n",
      "\n",
      "   *\n",
      "  ***\n",
      " *****\n",
      "*******\n"
     ]
    }
   ],
   "source": [
    "# 9c - functions called here\n",
    "trianglePrint(\"*\", 2)\n",
    "print() # to space out the triangles\n",
    "trianglePrint(\"*\", 3)\n",
    "print()\n",
    "trianglePrint(\"*\", 4)\n"
   ]
  }
 ],
 "metadata": {
  "kernelspec": {
   "display_name": "Python 3",
   "language": "python",
   "name": "python3"
  },
  "language_info": {
   "codemirror_mode": {
    "name": "ipython",
    "version": 3
   },
   "file_extension": ".py",
   "mimetype": "text/x-python",
   "name": "python",
   "nbconvert_exporter": "python",
   "pygments_lexer": "ipython3",
   "version": "3.6.6"
  }
 },
 "nbformat": 4,
 "nbformat_minor": 2
}
