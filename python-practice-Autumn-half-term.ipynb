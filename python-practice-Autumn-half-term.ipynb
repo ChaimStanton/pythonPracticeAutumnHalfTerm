{
 "cells": [
  {
   "cell_type": "markdown",
   "metadata": {},
   "source": [
    "# Autumn half term python practice \n",
    "----\n",
    "### Task 1"
   ]
  },
  {
   "cell_type": "code",
   "execution_count": 7,
   "metadata": {},
   "outputs": [
    {
     "name": "stdout",
     "output_type": "stream",
     "text": [
      "This is Jhon's first program\n"
     ]
    }
   ],
   "source": [
    "# 1a\n",
    "print('This is Jhon\\'s first program')"
   ]
  },
  {
   "cell_type": "markdown",
   "metadata": {},
   "source": [
    "### Task 2"
   ]
  },
  {
   "cell_type": "code",
   "execution_count": 8,
   "metadata": {},
   "outputs": [
    {
     "name": "stdout",
     "output_type": "stream",
     "text": [
      "Hello BobBob\n"
     ]
    }
   ],
   "source": [
    "name='Bob'\n",
    "name=name+name\n",
    "print('Hello '+name) # Prints Bob twice as the varibles are setup like that"
   ]
  },
  {
   "cell_type": "code",
   "execution_count": 9,
   "metadata": {},
   "outputs": [
    {
     "name": "stdout",
     "output_type": "stream",
     "text": [
      "What is your name? Chaim\n",
      "What is your friends name? Bob\n",
      "Which school or collage do you go to? Ada\n",
      "Hello  Chaim , and their firiend  Bob welcome to your school:  Ada\n"
     ]
    }
   ],
   "source": [
    "# 2a\n",
    "name = input(\"What is your name? \")\n",
    "friendName = input(\"What is your friends name? \")\n",
    "schoolName = input(\"Which school or collage do you go to? \")\n",
    "\n",
    "print(\"Hello \", name, \", and their firiend \", friendName, \"welcome to your school: \", schoolName)"
   ]
  },
  {
   "cell_type": "markdown",
   "metadata": {},
   "source": [
    "### Task 3"
   ]
  },
  {
   "cell_type": "code",
   "execution_count": 5,
   "metadata": {},
   "outputs": [
    {
     "name": "stdout",
     "output_type": "stream",
     "text": [
      "Where do you live? london\n",
      "I love visiting London\n"
     ]
    }
   ],
   "source": [
    "# 3a\n",
    "liveLocation = input(\"Where do you live? \").title() # The title means that the first letter of their location will be capatilised\n",
    "print(\"I love visiting\", liveLocation)"
   ]
  },
  {
   "cell_type": "code",
   "execution_count": 7,
   "metadata": {},
   "outputs": [
    {
     "name": "stdout",
     "output_type": "stream",
     "text": [
      "What is your first name?chaim\n",
      "What is your last name?stanton\n",
      "Hello Chaim Stanton\n"
     ]
    }
   ],
   "source": [
    "# 3b \n",
    "firstName = input(\"What is your first name?\").title()\n",
    "lastName = input(\"What is your last name?\").title()\n",
    "print(\"Hello\", firstName, lastName)"
   ]
  },
  {
   "cell_type": "code",
   "execution_count": 12,
   "metadata": {},
   "outputs": [
    {
     "name": "stdout",
     "output_type": "stream",
     "text": [
      "What is your first name? Chaim\n",
      "Chaim Chaim Chaim Chaim Chaim \n"
     ]
    }
   ],
   "source": [
    "# 3c \n",
    "firstName = input(\"What is your first name? \").title()\n",
    "print((firstName + \" \") * 5) # The double pair of brackets are needed because they create the string that is then multiplied by 5 "
   ]
  },
  {
   "cell_type": "markdown",
   "metadata": {},
   "source": [
    "### Task 4"
   ]
  },
  {
   "cell_type": "code",
   "execution_count": 2,
   "metadata": {},
   "outputs": [
    {
     "name": "stdout",
     "output_type": "stream",
     "text": [
      "7\n",
      "2\n",
      "27\n",
      "3.5\n",
      "1\n"
     ]
    }
   ],
   "source": [
    "# 4a\n",
    "print(1+6) # Addition\n",
    "print(7-5) # Subtractin\n",
    "print(3*9) # Multiplication\n",
    "print(7/2) # Devision\n",
    "print(7%2) # Remainder of "
   ]
  },
  {
   "cell_type": "code",
   "execution_count": 8,
   "metadata": {},
   "outputs": [
    {
     "name": "stdout",
     "output_type": "stream",
     "text": [
      "6.0\n",
      "0\n"
     ]
    }
   ],
   "source": [
    "# 4b \n",
    "a=12\n",
    "b=2\n",
    "c=a/b\n",
    "d = a % b # remainder\n",
    "print(c)\n",
    "print(d)"
   ]
  },
  {
   "cell_type": "code",
   "execution_count": 10,
   "metadata": {},
   "outputs": [],
   "source": [
    "# 4c - This cell will have the functions \n",
    "\n",
    "def isPrime(number):\n",
    "    \"\"\"A program to determine weather a number is prime or not returns a boolean\"\"\"\n",
    "    for counter in range(2, # Because every integer is divisble by 1\n",
    "                   number):\n",
    "        if number % counter == 0: # If the number is not prime \n",
    "            return False # the function does not need to continue running as the number is not prime\n",
    "    return True"
   ]
  },
  {
   "cell_type": "code",
   "execution_count": null,
   "metadata": {},
   "outputs": [],
   "source": [
    "# 4c - This cell the function will be called \n",
    "userNumber = int(input(\"Please enter a number: \"))\n",
    "\n",
    "if isPrime(userNumber):\n",
    "    print(\"Your number is prime\")\n",
    "else:\n",
    "    print(\"Your number is not prime\")"
   ]
  },
  {
   "cell_type": "markdown",
   "metadata": {},
   "source": [
    "### Task 5"
   ]
  },
  {
   "cell_type": "code",
   "execution_count": 18,
   "metadata": {},
   "outputs": [
    {
     "name": "stdout",
     "output_type": "stream",
     "text": [
      "Enter number 1:5\n",
      "Enter number 2:4\n",
      "Adding your numbers together gives:54\n"
     ]
    }
   ],
   "source": [
    "# 5a\n",
    "\n",
    "a=int(input('Enter number 1:'))\n",
    "b=int(input('Enter number 2:'))\n",
    "c=a+b\n",
    "print('Adding your numbers together gives:'+c)"
   ]
  },
  {
   "cell_type": "code",
   "execution_count": 11,
   "metadata": {},
   "outputs": [
    {
     "name": "stdout",
     "output_type": "stream",
     "text": [
      "Enter number 1:5\n",
      "Enter number 2:5\n",
      "Adding your numbers together gives:10\n",
      "Adding your numbers together gives: 10\n"
     ]
    }
   ],
   "source": [
    "a = int(input('Enter number 1:'))\n",
    "b = int(input('Enter number 2:'))\n",
    "c=a+b\n",
    "\n",
    "print('Adding your numbers together gives:'+str(c))\n",
    "print('Adding your numbers together gives:', str(c))"
   ]
  },
  {
   "cell_type": "code",
   "execution_count": 6,
   "metadata": {},
   "outputs": [
    {
     "name": "stdout",
     "output_type": "stream",
     "text": [
      "What is the volume of the cylinder? 5\n",
      "What is the height of your cylinder? 5\n",
      "The volume of your cylinder is : 392.69908169872417\n"
     ]
    }
   ],
   "source": [
    "# 5b - Volume of a Cylinder \n",
    "\n",
    "from math import pi as PI # This imports the number of pi to a high degree of precision, I have imported it as PI as oppoed to pi as it is a constant\n",
    "\n",
    "radius = int(input(\"What is the volume of the cylinder? \"))\n",
    "height = int(input(\"What is the height of your cylinder? \"))\n",
    "volume = PI * radius**2 * height\n",
    "\n",
    "print(\"The volume of your cylinder is :\", volume)"
   ]
  },
  {
   "cell_type": "code",
   "execution_count": 6,
   "metadata": {},
   "outputs": [
    {
     "name": "stdout",
     "output_type": "stream",
     "text": [
      "Please enter the number you would like to use: 8\n",
      "Please enter the number you would like to use: 7\n",
      "Please enter the number you would like to use: 4\n",
      "The biggest number is,  8\n"
     ]
    }
   ],
   "source": [
    "# 5c \n",
    "\n",
    "numbers = []\n",
    "\n",
    "for counter in range(3):\n",
    "    numbers.append(int(input(\"Please enter the number you would like to use: \")))\n",
    "\n",
    "print(\"The biggest number is, \", max(numbers)) # max finds the biggest number in the list"
   ]
  },
  {
   "cell_type": "markdown",
   "metadata": {},
   "source": [
    "### Task 6"
   ]
  },
  {
   "cell_type": "code",
   "execution_count": 37,
   "metadata": {},
   "outputs": [
    {
     "name": "stdout",
     "output_type": "stream",
     "text": [
      "This prints if the letter is neither a nor b\n"
     ]
    }
   ],
   "source": [
    "letter = \"c\"\n",
    "if letter=='a':\n",
    "        print('This prints if letter is a')\n",
    "elif letter=='b':\n",
    "    print('This prints if the letter is b')\n",
    "else:\n",
    "    print('This prints if the letter is neither a nor b')"
   ]
  },
  {
   "cell_type": "code",
   "execution_count": 3,
   "metadata": {},
   "outputs": [
    {
     "name": "stdout",
     "output_type": "stream",
     "text": [
      "What are your grades? 51\n",
      "Your mark is B\n"
     ]
    }
   ],
   "source": [
    "# 6a\n",
    "\n",
    "grade = int(input(\"What are your grades? \"))\n",
    "\n",
    "if grade < 40:\n",
    "    mark = \"D\"\n",
    "elif grade < 50:\n",
    "    mark = \"C\"\n",
    "elif grade < 60:\n",
    "    mark = \"B\"\n",
    "else:\n",
    "    mark = \"A\"\n",
    "\n",
    "print(\"Your mark is\", mark)"
   ]
  },
  {
   "cell_type": "markdown",
   "metadata": {},
   "source": [
    "### Task 7"
   ]
  },
  {
   "cell_type": "code",
   "execution_count": 3,
   "metadata": {},
   "outputs": [
    {
     "name": "stdout",
     "output_type": "stream",
     "text": [
      "Please enter the letter you would like to be printed multiple times: a\n",
      "Please enter the number of times you would like it to be printed: 5\n",
      "aaaaa"
     ]
    }
   ],
   "source": [
    "# 7a\n",
    "letterToPrint = input(\"Please enter the letter you would like to be printed multiple times: \")\n",
    "numberOfTimes = int(input(\"Please enter the number of times you would like it to be printed: \"))\n",
    "\n",
    "for counter in range(numberOfTimes):\n",
    "    print(letterToPrint, end=\"\")"
   ]
  },
  {
   "cell_type": "code",
   "execution_count": 5,
   "metadata": {},
   "outputs": [
    {
     "name": "stdout",
     "output_type": "stream",
     "text": [
      "12\n",
      "24\n",
      "36\n",
      "48\n",
      "60\n",
      "72\n",
      "84\n",
      "96\n",
      "108\n",
      "120\n",
      "132\n",
      "144\n",
      "156\n",
      "168\n",
      "180\n",
      "192\n",
      "204\n",
      "216\n",
      "228\n",
      "240\n",
      "252\n",
      "264\n",
      "276\n",
      "288\n",
      "300\n",
      "312\n",
      "324\n",
      "336\n",
      "348\n",
      "360\n",
      "372\n",
      "384\n",
      "396\n",
      "408\n",
      "420\n",
      "432\n",
      "444\n",
      "456\n",
      "468\n",
      "480\n",
      "492\n",
      "504\n",
      "516\n",
      "528\n",
      "540\n",
      "552\n",
      "564\n",
      "576\n",
      "588\n",
      "600\n",
      "612\n",
      "624\n",
      "636\n",
      "648\n",
      "660\n",
      "672\n",
      "684\n",
      "696\n",
      "708\n",
      "720\n",
      "732\n",
      "744\n",
      "756\n",
      "768\n",
      "780\n",
      "792\n",
      "804\n",
      "816\n",
      "828\n",
      "840\n",
      "852\n",
      "864\n",
      "876\n",
      "888\n",
      "900\n",
      "912\n",
      "924\n",
      "936\n",
      "948\n",
      "960\n",
      "972\n",
      "984\n",
      "996\n"
     ]
    }
   ],
   "source": [
    "# 7b\n",
    "\n",
    "for number in range(1,1001):\n",
    "    if number % 4 == 0 and number % 3 == 0:\n",
    "        print(number)"
   ]
  },
  {
   "cell_type": "markdown",
   "metadata": {},
   "source": [
    "### Task 8"
   ]
  },
  {
   "cell_type": "code",
   "execution_count": 1,
   "metadata": {},
   "outputs": [
    {
     "name": "stdout",
     "output_type": "stream",
     "text": [
      "looping\n",
      "looping\n",
      "looping\n",
      "looping\n",
      "looping\n"
     ]
    }
   ],
   "source": [
    "x=0 # initialize the loop variable\n",
    "while x<5: # test the loop variable\n",
    "    print('looping')\n",
    "    x=x+1 #change the loop variable"
   ]
  },
  {
   "cell_type": "code",
   "execution_count": 6,
   "metadata": {},
   "outputs": [
    {
     "name": "stdout",
     "output_type": "stream",
     "text": [
      "Please enter your password guess:\n",
      " This is case sensitive: appple\n",
      "You guessed the password wrong\n",
      "Please enter your password guess:\n",
      " This is case sensitive: apple\n",
      "Accepted\n"
     ]
    }
   ],
   "source": [
    "# 8a - password program\n",
    "\n",
    "isPasswordCorrect = False \n",
    "correctPassword = \"apple\"\n",
    "\n",
    "while isPasswordCorrect == False:\n",
    "    passwordGuess = input(\"Please enter your password guess:\\n This is case sensitive: \")\n",
    "    if correctPassword == passwordGuess:\n",
    "        isPasswordCorrect = True\n",
    "    else:\n",
    "        print(\"You guessed the password wrong\")\n",
    "    \n",
    "print(\"Accepted\")"
   ]
  },
  {
   "cell_type": "code",
   "execution_count": 4,
   "metadata": {},
   "outputs": [
    {
     "name": "stdout",
     "output_type": "stream",
     "text": [
      "1\n",
      "4\n",
      "9\n",
      "16\n",
      "25\n",
      "36\n",
      "49\n",
      "64\n",
      "81\n",
      "100\n",
      "121\n",
      "144\n",
      "169\n",
      "196\n",
      "225\n",
      "256\n",
      "289\n",
      "324\n",
      "361\n",
      "400\n",
      "441\n",
      "484\n",
      "529\n",
      "576\n",
      "625\n",
      "676\n",
      "729\n",
      "784\n",
      "841\n",
      "900\n",
      "961\n",
      "1024\n",
      "1089\n",
      "1156\n",
      "1225\n",
      "1296\n",
      "1369\n",
      "1444\n",
      "1521\n",
      "1600\n",
      "1681\n",
      "1764\n",
      "1849\n",
      "1936\n",
      "2025\n",
      "2116\n",
      "2209\n",
      "2304\n",
      "2401\n",
      "2500\n",
      "2601\n",
      "2704\n",
      "2809\n",
      "2916\n",
      "3025\n",
      "3136\n",
      "3249\n",
      "3364\n",
      "3481\n",
      "3600\n",
      "3721\n",
      "3844\n",
      "3969\n",
      "4096\n",
      "4225\n",
      "4356\n",
      "4489\n",
      "4624\n",
      "4761\n",
      "4900\n",
      "5041\n",
      "5184\n",
      "5329\n",
      "5476\n",
      "5625\n",
      "5776\n",
      "5929\n",
      "6084\n",
      "6241\n",
      "6400\n",
      "6561\n",
      "6724\n",
      "6889\n",
      "7056\n",
      "7225\n",
      "7396\n",
      "7569\n",
      "7744\n",
      "7921\n",
      "8100\n",
      "8281\n",
      "8464\n",
      "8649\n",
      "8836\n",
      "9025\n",
      "9216\n",
      "9409\n",
      "9604\n",
      "9801\n",
      "10000\n",
      "10201\n",
      "10404\n",
      "10609\n",
      "10816\n",
      "11025\n",
      "11236\n",
      "11449\n",
      "11664\n",
      "11881\n",
      "12100\n",
      "12321\n",
      "12544\n",
      "12769\n",
      "12996\n",
      "13225\n",
      "13456\n",
      "13689\n",
      "13924\n",
      "14161\n",
      "14400\n",
      "14641\n",
      "14884\n",
      "15129\n",
      "15376\n",
      "15625\n",
      "15876\n",
      "16129\n",
      "16384\n",
      "16641\n",
      "16900\n",
      "17161\n",
      "17424\n",
      "17689\n",
      "17956\n",
      "18225\n",
      "18496\n",
      "18769\n",
      "19044\n",
      "19321\n",
      "19600\n",
      "19881\n",
      "20164\n",
      "20449\n",
      "20736\n",
      "21025\n",
      "21316\n",
      "21609\n",
      "21904\n",
      "22201\n",
      "22500\n",
      "22801\n",
      "23104\n",
      "23409\n",
      "23716\n",
      "24025\n",
      "24336\n",
      "24649\n",
      "24964\n",
      "25281\n",
      "25600\n",
      "25921\n",
      "26244\n",
      "26569\n",
      "26896\n",
      "27225\n",
      "27556\n",
      "27889\n",
      "28224\n",
      "28561\n",
      "28900\n",
      "29241\n",
      "29584\n",
      "29929\n",
      "30276\n",
      "30625\n",
      "30976\n",
      "31329\n",
      "31684\n",
      "32041\n",
      "32400\n",
      "32761\n",
      "33124\n",
      "33489\n",
      "33856\n",
      "34225\n",
      "34596\n",
      "34969\n",
      "35344\n",
      "35721\n",
      "36100\n",
      "36481\n",
      "36864\n",
      "37249\n",
      "37636\n",
      "38025\n",
      "38416\n",
      "38809\n",
      "39204\n",
      "39601\n",
      "40000\n",
      "40401\n",
      "40804\n",
      "41209\n",
      "41616\n",
      "42025\n",
      "42436\n",
      "42849\n",
      "43264\n",
      "43681\n",
      "44100\n",
      "44521\n",
      "44944\n",
      "45369\n",
      "45796\n",
      "46225\n",
      "46656\n",
      "47089\n",
      "47524\n",
      "47961\n",
      "48400\n",
      "48841\n",
      "49284\n",
      "49729\n",
      "50176\n",
      "50625\n",
      "51076\n",
      "51529\n",
      "51984\n",
      "52441\n",
      "52900\n",
      "53361\n",
      "53824\n",
      "54289\n",
      "54756\n",
      "55225\n",
      "55696\n",
      "56169\n",
      "56644\n",
      "57121\n",
      "57600\n",
      "58081\n",
      "58564\n",
      "59049\n",
      "59536\n",
      "60025\n",
      "60516\n",
      "61009\n",
      "61504\n",
      "62001\n",
      "62500\n",
      "63001\n",
      "63504\n",
      "64009\n",
      "64516\n",
      "65025\n",
      "65536\n",
      "66049\n",
      "66564\n",
      "67081\n",
      "67600\n",
      "68121\n",
      "68644\n",
      "69169\n",
      "69696\n",
      "70225\n",
      "70756\n",
      "71289\n",
      "71824\n",
      "72361\n",
      "72900\n",
      "73441\n",
      "73984\n",
      "74529\n",
      "75076\n",
      "75625\n",
      "76176\n",
      "76729\n",
      "77284\n",
      "77841\n",
      "78400\n",
      "78961\n",
      "79524\n",
      "80089\n",
      "80656\n",
      "81225\n",
      "81796\n",
      "82369\n",
      "82944\n",
      "83521\n",
      "84100\n",
      "84681\n",
      "85264\n",
      "85849\n",
      "86436\n",
      "87025\n",
      "87616\n",
      "88209\n",
      "88804\n",
      "89401\n",
      "90000\n",
      "90601\n",
      "91204\n",
      "91809\n",
      "92416\n",
      "93025\n",
      "93636\n",
      "94249\n",
      "94864\n",
      "95481\n",
      "96100\n",
      "96721\n",
      "97344\n",
      "97969\n",
      "98596\n",
      "99225\n",
      "99856\n",
      "100489\n",
      "101124\n",
      "101761\n",
      "102400\n",
      "103041\n",
      "103684\n",
      "104329\n",
      "104976\n",
      "105625\n",
      "106276\n",
      "106929\n",
      "107584\n",
      "108241\n",
      "108900\n",
      "109561\n",
      "110224\n",
      "110889\n",
      "111556\n",
      "112225\n",
      "112896\n",
      "113569\n",
      "114244\n",
      "114921\n",
      "115600\n",
      "116281\n",
      "116964\n",
      "117649\n",
      "118336\n",
      "119025\n",
      "119716\n",
      "120409\n",
      "121104\n",
      "121801\n",
      "122500\n",
      "123201\n",
      "123904\n",
      "124609\n",
      "125316\n",
      "126025\n",
      "126736\n",
      "127449\n",
      "128164\n",
      "128881\n",
      "129600\n",
      "130321\n",
      "131044\n",
      "131769\n",
      "132496\n",
      "133225\n",
      "133956\n",
      "134689\n",
      "135424\n",
      "136161\n",
      "136900\n",
      "137641\n",
      "138384\n",
      "139129\n",
      "139876\n",
      "140625\n",
      "141376\n",
      "142129\n",
      "142884\n",
      "143641\n",
      "144400\n",
      "145161\n",
      "145924\n",
      "146689\n",
      "147456\n",
      "148225\n",
      "148996\n",
      "149769\n",
      "150544\n",
      "151321\n",
      "152100\n",
      "152881\n",
      "153664\n",
      "154449\n",
      "155236\n",
      "156025\n",
      "156816\n",
      "157609\n",
      "158404\n",
      "159201\n",
      "160000\n",
      "160801\n",
      "161604\n",
      "162409\n",
      "163216\n",
      "164025\n",
      "164836\n",
      "165649\n",
      "166464\n",
      "167281\n",
      "168100\n",
      "168921\n",
      "169744\n",
      "170569\n",
      "171396\n",
      "172225\n",
      "173056\n",
      "173889\n",
      "174724\n",
      "175561\n",
      "176400\n",
      "177241\n",
      "178084\n",
      "178929\n",
      "179776\n",
      "180625\n",
      "181476\n",
      "182329\n",
      "183184\n",
      "184041\n",
      "184900\n",
      "185761\n",
      "186624\n",
      "187489\n",
      "188356\n",
      "189225\n",
      "190096\n",
      "190969\n",
      "191844\n",
      "192721\n",
      "193600\n",
      "194481\n",
      "195364\n",
      "196249\n",
      "197136\n",
      "198025\n",
      "198916\n",
      "199809\n",
      "200704\n",
      "201601\n",
      "202500\n",
      "203401\n",
      "204304\n",
      "205209\n",
      "206116\n",
      "207025\n",
      "207936\n",
      "208849\n",
      "209764\n",
      "210681\n",
      "211600\n",
      "212521\n",
      "213444\n",
      "214369\n",
      "215296\n",
      "216225\n",
      "217156\n",
      "218089\n",
      "219024\n",
      "219961\n",
      "220900\n",
      "221841\n",
      "222784\n",
      "223729\n",
      "224676\n",
      "225625\n",
      "226576\n",
      "227529\n",
      "228484\n",
      "229441\n",
      "230400\n",
      "231361\n",
      "232324\n",
      "233289\n",
      "234256\n",
      "235225\n",
      "236196\n",
      "237169\n",
      "238144\n",
      "239121\n",
      "240100\n",
      "241081\n",
      "242064\n",
      "243049\n",
      "244036\n",
      "245025\n",
      "246016\n",
      "247009\n",
      "248004\n",
      "249001\n",
      "250000\n"
     ]
    }
   ],
   "source": [
    "# 8b \n",
    "\n",
    "counter = 1 \n",
    "while counter <= 500:\n",
    "    print(counter**2)\n",
    "    counter += 1"
   ]
  },
  {
   "cell_type": "markdown",
   "metadata": {},
   "source": [
    "### Task 9"
   ]
  },
  {
   "cell_type": "code",
   "execution_count": 10,
   "metadata": {},
   "outputs": [],
   "source": [
    "# 9a - in this cell the functions are made in the cell below the functions are called\n",
    "# PI as a constant does not need to be initalised as it has been initalised above\n",
    "def circleArea(raduis):\n",
    "    \"\"\"This is a function to find the area of a circle\"\"\"\n",
    "    return PI * raduis**2"
   ]
  },
  {
   "cell_type": "code",
   "execution_count": 9,
   "metadata": {},
   "outputs": [
    {
     "name": "stdout",
     "output_type": "stream",
     "text": [
      "28.274333882308138\n"
     ]
    }
   ],
   "source": [
    "# 9a - in this cell the functions are called\n",
    "print(circleArea(3))"
   ]
  },
  {
   "cell_type": "code",
   "execution_count": 48,
   "metadata": {},
   "outputs": [],
   "source": [
    "# 9b - Functions defined here functions called below \n",
    "def decToBin(dec):\n",
    "    \"\"\"A function that takes in a decimal value and outputs a 8 bit binary\"\"\"\n",
    "    binary = bin(dec)[2:] # I had to look into the documentation for this, the [2:] is the string slicing as the bin returns a string\n",
    "    if len(binary) < 8:\n",
    "        binary = \"0\" * (8 - len(binary)) + binary # This adds the correct amount of 0's to the beginning of the string\n",
    "    return binary"
   ]
  },
  {
   "cell_type": "code",
   "execution_count": 52,
   "metadata": {},
   "outputs": [
    {
     "data": {
      "text/plain": [
       "'11111111'"
      ]
     },
     "execution_count": 52,
     "metadata": {},
     "output_type": "execute_result"
    }
   ],
   "source": [
    "# 9b - Functions called here defined above\n",
    "decToBin(255)"
   ]
  },
  {
   "cell_type": "code",
   "execution_count": 13,
   "metadata": {},
   "outputs": [],
   "source": [
    "# 9c - functions defined here called in cell below \n",
    "def trianglePrint(character, numberOfLines):\n",
    "    \"\"\" The instructions say to write a procedure so no value needs to be reutrned this is a procedure to print out the correct amount of *'s\"\"\"\n",
    "\n",
    "    for row in range(numberOfLines):\n",
    "        print((numberOfLines - row - 1) * \" \" + (row*2+1) * character) # calcualtes then prints the correct amount of whitespaces and characters"
   ]
  },
  {
   "cell_type": "code",
   "execution_count": 17,
   "metadata": {},
   "outputs": [
    {
     "name": "stdout",
     "output_type": "stream",
     "text": [
      " *\n",
      "***\n",
      "\n",
      "  *\n",
      " ***\n",
      "*****\n",
      "\n",
      "   *\n",
      "  ***\n",
      " *****\n",
      "*******\n"
     ]
    }
   ],
   "source": [
    "# 9c - functions called here\n",
    "trianglePrint(\"*\", 2)\n",
    "print() # to space out the triangles\n",
    "trianglePrint(\"*\", 3)\n",
    "print()\n",
    "trianglePrint(\"*\", 4)\n"
   ]
  }
 ],
 "metadata": {
  "kernelspec": {
   "display_name": "Python 3",
   "language": "python",
   "name": "python3"
  },
  "language_info": {
   "codemirror_mode": {
    "name": "ipython",
    "version": 3
   },
   "file_extension": ".py",
   "mimetype": "text/x-python",
   "name": "python",
   "nbconvert_exporter": "python",
   "pygments_lexer": "ipython3",
   "version": "3.6.6"
  }
 },
 "nbformat": 4,
 "nbformat_minor": 2
}
