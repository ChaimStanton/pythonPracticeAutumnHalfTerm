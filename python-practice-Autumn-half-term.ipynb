{
 "cells": [
  {
   "cell_type": "markdown",
   "metadata": {},
   "source": [
    "# Autumn half term python practice \n",
    "----\n",
    "### Task 1"
   ]
  },
  {
   "cell_type": "code",
   "execution_count": null,
   "metadata": {},
   "outputs": [],
   "source": [
    "print('This is Jhon\\'s first program')"
   ]
  },
  {
   "cell_type": "markdown",
   "metadata": {},
   "source": [
    "### Task 2"
   ]
  },
  {
   "cell_type": "code",
   "execution_count": null,
   "metadata": {},
   "outputs": [],
   "source": [
    "name = input(\"What is your name? \")\n",
    "friendName = input(\"What is your friends name? \")\n",
    "schoolName = input(\"Which school or collage do you go to? \")\n",
    "\n",
    "print(\"Hello \", name, \", and their firiend \", friendName, \"welcome to your school: \", schoolName)"
   ]
  },
  {
   "cell_type": "markdown",
   "metadata": {},
   "source": [
    "### Task 3"
   ]
  },
  {
   "cell_type": "code",
   "execution_count": 5,
   "metadata": {},
   "outputs": [
    {
     "name": "stdout",
     "output_type": "stream",
     "text": [
      "Where do you live? london\n",
      "I love visiting London\n"
     ]
    }
   ],
   "source": [
    "# 3a\n",
    "liveLocation = input(\"Where do you live? \").title() # The title means that the first letter of their location will be capatilised\n",
    "print(\"I love visiting\", liveLocation)"
   ]
  },
  {
   "cell_type": "code",
   "execution_count": 7,
   "metadata": {},
   "outputs": [
    {
     "name": "stdout",
     "output_type": "stream",
     "text": [
      "What is your first name?chaim\n",
      "What is your last name?stanton\n",
      "Hello Chaim Stanton\n"
     ]
    }
   ],
   "source": [
    "# 3b \n",
    "firstName = input(\"What is your first name?\").title()\n",
    "lastName = input(\"What is your last name?\").title()\n",
    "print(\"Hello\", firstName, lastName)"
   ]
  },
  {
   "cell_type": "code",
   "execution_count": 12,
   "metadata": {},
   "outputs": [
    {
     "name": "stdout",
     "output_type": "stream",
     "text": [
      "What is your first name? Chaim\n",
      "Chaim Chaim Chaim Chaim Chaim \n"
     ]
    }
   ],
   "source": [
    "# 3c \n",
    "firstName = input(\"What is your first name? \").title()\n",
    "print((firstName + \" \") * 5) # The double pair of brackets are needed because they create the string that is then multiplied by 5 "
   ]
  },
  {
   "cell_type": "markdown",
   "metadata": {},
   "source": [
    "### Task 4"
   ]
  },
  {
   "cell_type": "code",
   "execution_count": 2,
   "metadata": {},
   "outputs": [
    {
     "name": "stdout",
     "output_type": "stream",
     "text": [
      "7\n",
      "2\n",
      "27\n",
      "3.5\n",
      "1\n"
     ]
    }
   ],
   "source": [
    "# 4a\n",
    "print(1+6) # Addition\n",
    "print(7-5) # Subtractin\n",
    "print(3*9) # Multiplication\n",
    "print(7/2) # Devision\n",
    "print(7%2) # Remainder of "
   ]
  },
  {
   "cell_type": "code",
   "execution_count": 8,
   "metadata": {},
   "outputs": [
    {
     "name": "stdout",
     "output_type": "stream",
     "text": [
      "6.0\n",
      "0\n"
     ]
    }
   ],
   "source": [
    "# 4b \n",
    "a=12\n",
    "b=2\n",
    "c=a/b\n",
    "d = a % b # remainder\n",
    "print(c)\n",
    "print(d)"
   ]
  },
  {
   "cell_type": "code",
   "execution_count": 10,
   "metadata": {},
   "outputs": [],
   "source": [
    "# 4c - This cell will have the functions \n",
    "\n",
    "def isPrime(number):\n",
    "    \"\"\"A program to determine weather a number is prime or not returns a boolean\"\"\"\n",
    "    for counter in range(2, # Because every integer is divisble by 1\n",
    "                   number):\n",
    "        if number % counter == 0:\n",
    "            return False\n",
    "    return True"
   ]
  },
  {
   "cell_type": "code",
   "execution_count": null,
   "metadata": {},
   "outputs": [],
   "source": [
    "# 4c - This cell the function will be called \n",
    "userNumber = int(input(\"Please enter a number: \"))\n",
    "\n",
    "if isPrime(userNumber):\n",
    "    print(\"Your number is prime\")\n",
    "else:\n",
    "    print(\"Your number is not prime\")"
   ]
  },
  {
   "cell_type": "markdown",
   "metadata": {},
   "source": [
    "### Task 5"
   ]
  },
  {
   "cell_type": "code",
   "execution_count": null,
   "metadata": {},
   "outputs": [],
   "source": []
  },
  {
   "cell_type": "markdown",
   "metadata": {},
   "source": [
    "### Task 6"
   ]
  },
  {
   "cell_type": "code",
   "execution_count": null,
   "metadata": {},
   "outputs": [],
   "source": []
  },
  {
   "cell_type": "markdown",
   "metadata": {},
   "source": [
    "### Task 7"
   ]
  },
  {
   "cell_type": "code",
   "execution_count": null,
   "metadata": {},
   "outputs": [],
   "source": []
  },
  {
   "cell_type": "markdown",
   "metadata": {},
   "source": [
    "### Task 8"
   ]
  },
  {
   "cell_type": "code",
   "execution_count": null,
   "metadata": {},
   "outputs": [],
   "source": []
  },
  {
   "cell_type": "markdown",
   "metadata": {},
   "source": [
    "### Task 9"
   ]
  },
  {
   "cell_type": "code",
   "execution_count": null,
   "metadata": {},
   "outputs": [],
   "source": []
  }
 ],
 "metadata": {
  "kernelspec": {
   "display_name": "Python 3",
   "language": "python",
   "name": "python3"
  },
  "language_info": {
   "codemirror_mode": {
    "name": "ipython",
    "version": 3
   },
   "file_extension": ".py",
   "mimetype": "text/x-python",
   "name": "python",
   "nbconvert_exporter": "python",
   "pygments_lexer": "ipython3",
   "version": "3.6.6"
  }
 },
 "nbformat": 4,
 "nbformat_minor": 2
}
